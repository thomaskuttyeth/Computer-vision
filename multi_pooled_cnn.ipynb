{
 "cells": [
  {
   "cell_type": "markdown",
   "id": "ae7fb008-9bd7-4417-af86-8889577261cb",
   "metadata": {},
   "source": [
    "# <i> Multiple Pooling Convolutional Neural Network "
   ]
  },
  {
   "cell_type": "code",
   "execution_count": 12,
   "id": "0d8c9231-a8c2-417f-9478-98ede2b96899",
   "metadata": {},
   "outputs": [],
   "source": [
    "from tensorflow import keras\n",
    "import matplotlib.pyplot as plt\n",
    "import numpy as np\n",
    "import tensorflow as tf \n",
    "\n",
    "class Cnn_Model():\n",
    "    def __init__(self, size, channels):\n",
    "        self.size = size\n",
    "        self.channels = channels\n",
    "        self.input_ = None\n",
    "        self.model = None\n",
    "        self.input_shape = (self.size, self.size, self.channels)\n",
    "\n",
    "    def build(self):\n",
    "        self.input_ = keras.layers.Input(self.input_shape)\n",
    "\n",
    "        # first block\n",
    "        conv1 = keras.layers.Conv2D(\n",
    "            32, (3, 3), activation='relu', padding='same')(self.input_)\n",
    "        \n",
    "        # multiple pooling part  ------> \n",
    "        \n",
    "        # pooling on the right side \n",
    "        pool_max = keras.layers.MaxPooling2D(pool_size=(2, 2))(conv1)\n",
    "        \n",
    "        # getting pooling on the left side \n",
    "        nega = tf.math.negative(conv1) \n",
    "        nega_pool = keras.layers.MaxPooling2D(pool_size = (2,2))(nega) \n",
    "        # taking negativ again \n",
    "        pool_range = tf.math.negative(nega_pool) \n",
    "        # gettting the range pooling \n",
    "        range_pool = tf.math.subtract(pool_max,pool_range)\n",
    "        \n",
    "        # concatenating pools \n",
    "        concatenated = tf.keras.layers.Concatenate()([pool_max, range_pool]) \n",
    "        \n",
    "        # -----------> \n",
    "        \n",
    "        \n",
    "        norm1 = keras.layers.BatchNormalization(axis=-1)(concatenated)\n",
    "        drop1 = keras.layers.Dropout(rate=0.2)(norm1)  # adding regularization\n",
    "\n",
    "\n",
    "        # flattening weights\n",
    "        flatten = keras.layers.Flatten()(drop1)\n",
    "\n",
    "        # fully connected set 1\n",
    "        hidden1 = keras.layers.Dense(512, activation='relu')(flatten)\n",
    "        norm3 = keras.layers.BatchNormalization(axis=-1)(hidden1)\n",
    "        drop3 = keras.layers.Dropout(rate=0.2)(norm3)\n",
    "\n",
    "        # fully connected set2\n",
    "        hidden2 = keras.layers.Dense(512, activation='relu')(drop3)\n",
    "        norm4 = keras.layers.BatchNormalization(axis=-1)(hidden2)\n",
    "        drop4 = keras.layers.Dropout(rate=0.2)(norm4)\n",
    "\n",
    "        # output layer\n",
    "        self.output_ = keras.layers.Dense(4, activation='softmax')(drop4)\n",
    "\n",
    "    def compile(self):\n",
    "        # model compiling\n",
    "        self.model = keras.Model(inputs=self.input_, outputs=self.output_)\n",
    "        self.model.compile(optimizer='adam',\n",
    "                           loss='categorical_crossentropy',\n",
    "                           metrics=['accuracy'])\n",
    "\n",
    "    def fit_model(self, X_train, y_train, batch_size, verbose, epochs, validation_split, shuffle):\n",
    "        history = self.model.fit(np.array(X_train),\n",
    "                                 y_train,\n",
    "                                 batch_size=batch_size,\n",
    "                                 verbose=verbose,\n",
    "                                 epochs=epochs,\n",
    "                                 validation_split=validation_split,\n",
    "                                 shuffle=shuffle)\n",
    "        return history\n",
    "\n",
    "    def get_summary(self):\n",
    "        return self.model.summary()"
   ]
  },
  {
   "cell_type": "code",
   "execution_count": 13,
   "id": "e8db5f64-6f5d-48be-aa3f-b2b595c8e359",
   "metadata": {},
   "outputs": [],
   "source": [
    "model = Cnn_Model(224,3)"
   ]
  },
  {
   "cell_type": "code",
   "execution_count": 14,
   "id": "a16e3a3b-3275-4dd7-8ebb-8f8a8c7c61c2",
   "metadata": {},
   "outputs": [],
   "source": [
    "model.build()"
   ]
  },
  {
   "cell_type": "code",
   "execution_count": 15,
   "id": "8b5224ba-fca0-4f33-96d9-f3a5f2816c1f",
   "metadata": {},
   "outputs": [],
   "source": [
    "model.compile()"
   ]
  },
  {
   "cell_type": "code",
   "execution_count": 16,
   "id": "cb7c14ea-8e02-4672-ba42-a1e81a82979f",
   "metadata": {},
   "outputs": [
    {
     "name": "stdout",
     "output_type": "stream",
     "text": [
      "Model: \"model\"\n",
      "__________________________________________________________________________________________________\n",
      "Layer (type)                    Output Shape         Param #     Connected to                     \n",
      "==================================================================================================\n",
      "input_4 (InputLayer)            [(None, 224, 224, 3) 0                                            \n",
      "__________________________________________________________________________________________________\n",
      "conv2d_3 (Conv2D)               (None, 224, 224, 32) 896         input_4[0][0]                    \n",
      "__________________________________________________________________________________________________\n",
      "tf.math.negative_4 (TFOpLambda) (None, 224, 224, 32) 0           conv2d_3[0][0]                   \n",
      "__________________________________________________________________________________________________\n",
      "max_pooling2d_6 (MaxPooling2D)  (None, 112, 112, 32) 0           tf.math.negative_4[0][0]         \n",
      "__________________________________________________________________________________________________\n",
      "max_pooling2d_5 (MaxPooling2D)  (None, 112, 112, 32) 0           conv2d_3[0][0]                   \n",
      "__________________________________________________________________________________________________\n",
      "tf.math.negative_5 (TFOpLambda) (None, 112, 112, 32) 0           max_pooling2d_6[0][0]            \n",
      "__________________________________________________________________________________________________\n",
      "tf.math.subtract_1 (TFOpLambda) (None, 112, 112, 32) 0           max_pooling2d_5[0][0]            \n",
      "                                                                 tf.math.negative_5[0][0]         \n",
      "__________________________________________________________________________________________________\n",
      "concatenate_1 (Concatenate)     (None, 112, 112, 64) 0           max_pooling2d_5[0][0]            \n",
      "                                                                 tf.math.subtract_1[0][0]         \n",
      "__________________________________________________________________________________________________\n",
      "batch_normalization_1 (BatchNor (None, 112, 112, 64) 256         concatenate_1[0][0]              \n",
      "__________________________________________________________________________________________________\n",
      "dropout_1 (Dropout)             (None, 112, 112, 64) 0           batch_normalization_1[0][0]      \n",
      "__________________________________________________________________________________________________\n",
      "flatten_1 (Flatten)             (None, 802816)       0           dropout_1[0][0]                  \n",
      "__________________________________________________________________________________________________\n",
      "dense (Dense)                   (None, 512)          411042304   flatten_1[0][0]                  \n",
      "__________________________________________________________________________________________________\n",
      "batch_normalization_2 (BatchNor (None, 512)          2048        dense[0][0]                      \n",
      "__________________________________________________________________________________________________\n",
      "dropout_2 (Dropout)             (None, 512)          0           batch_normalization_2[0][0]      \n",
      "__________________________________________________________________________________________________\n",
      "dense_1 (Dense)                 (None, 512)          262656      dropout_2[0][0]                  \n",
      "__________________________________________________________________________________________________\n",
      "batch_normalization_3 (BatchNor (None, 512)          2048        dense_1[0][0]                    \n",
      "__________________________________________________________________________________________________\n",
      "dropout_3 (Dropout)             (None, 512)          0           batch_normalization_3[0][0]      \n",
      "__________________________________________________________________________________________________\n",
      "dense_2 (Dense)                 (None, 4)            2052        dropout_3[0][0]                  \n",
      "==================================================================================================\n",
      "Total params: 411,312,260\n",
      "Trainable params: 411,310,084\n",
      "Non-trainable params: 2,176\n",
      "__________________________________________________________________________________________________\n"
     ]
    }
   ],
   "source": [
    "model.get_summary()"
   ]
  },
  {
   "cell_type": "code",
   "execution_count": null,
   "id": "623b9311-115b-4160-a804-0e090f9a9507",
   "metadata": {},
   "outputs": [],
   "source": []
  }
 ],
 "metadata": {
  "kernelspec": {
   "display_name": "Python 3 (ipykernel)",
   "language": "python",
   "name": "python3"
  },
  "language_info": {
   "codemirror_mode": {
    "name": "ipython",
    "version": 3
   },
   "file_extension": ".py",
   "mimetype": "text/x-python",
   "name": "python",
   "nbconvert_exporter": "python",
   "pygments_lexer": "ipython3",
   "version": "3.8.8"
  }
 },
 "nbformat": 4,
 "nbformat_minor": 5
}
